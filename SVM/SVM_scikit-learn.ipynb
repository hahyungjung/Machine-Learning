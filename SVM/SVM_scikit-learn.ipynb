{
 "cells": [
  {
   "cell_type": "markdown",
   "id": "8691cc48",
   "metadata": {},
   "source": [
    "https://hleecaster.com/ml-svm-concept/?ckattempt=1"
   ]
  },
  {
   "cell_type": "code",
   "execution_count": 1,
   "id": "ecbf56da",
   "metadata": {},
   "outputs": [],
   "source": [
    "from sklearn.svm import SVC"
   ]
  },
  {
   "cell_type": "code",
   "execution_count": 2,
   "id": "d729a2ab",
   "metadata": {},
   "outputs": [
    {
     "data": {
      "text/plain": [
       "SVC(kernel='linear')"
      ]
     },
     "execution_count": 2,
     "metadata": {},
     "output_type": "execute_result"
    }
   ],
   "source": [
    "classifier = SVC(kernel = 'linear')\n",
    "training_points = [[1, 2], [1, 5], [2, 2], [7, 5], [9, 4], [8, 2]]\n",
    "labels = [1, 1, 1, 0, 0, 0]\n",
    "classifier.fit(training_points, labels) "
   ]
  },
  {
   "cell_type": "code",
   "execution_count": 3,
   "id": "885419f5",
   "metadata": {},
   "outputs": [
    {
     "name": "stdout",
     "output_type": "stream",
     "text": [
      "[1]\n"
     ]
    }
   ],
   "source": [
    "print(classifier.predict([[3, 2]]))"
   ]
  },
  {
   "cell_type": "code",
   "execution_count": 4,
   "id": "20df2b07",
   "metadata": {},
   "outputs": [],
   "source": [
    "classifier = SVC(C = 0.01)"
   ]
  },
  {
   "cell_type": "markdown",
   "id": "85903c24",
   "metadata": {},
   "source": [
    "Hard Margin > C > Soft Margin "
   ]
  },
  {
   "cell_type": "markdown",
   "id": "acd01e2e",
   "metadata": {},
   "source": [
    "Kernel"
   ]
  },
  {
   "cell_type": "code",
   "execution_count": null,
   "id": "1ed6b642",
   "metadata": {},
   "outputs": [],
   "source": [
    "from sklearn.svm import SVC"
   ]
  },
  {
   "cell_type": "code",
   "execution_count": null,
   "id": "0510a94a",
   "metadata": {},
   "outputs": [],
   "source": [
    "classifier = SVC(kernel = 'linear')"
   ]
  }
 ],
 "metadata": {
  "kernelspec": {
   "display_name": "Python 3 (ipykernel)",
   "language": "python",
   "name": "python3"
  },
  "language_info": {
   "codemirror_mode": {
    "name": "ipython",
    "version": 3
   },
   "file_extension": ".py",
   "mimetype": "text/x-python",
   "name": "python",
   "nbconvert_exporter": "python",
   "pygments_lexer": "ipython3",
   "version": "3.9.7"
  }
 },
 "nbformat": 4,
 "nbformat_minor": 5
}
